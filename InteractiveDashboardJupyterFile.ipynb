{
 "cells": [
  {
   "cell_type": "code",
   "execution_count": 2,
   "metadata": {},
   "outputs": [
    {
     "name": "stdout",
     "output_type": "stream",
     "text": [
      "pip 22.3 from C:\\My_Files\\LambtonCollege\\WIL_Term\\code\\env\\lib\\site-packages\\pip (python 3.9)\n",
      "\n"
     ]
    }
   ],
   "source": [
    "!pip -V"
   ]
  },
  {
   "cell_type": "code",
   "execution_count": 3,
   "metadata": {},
   "outputs": [
    {
     "name": "stdout",
     "output_type": "stream",
     "text": [
      "Package                Version\n",
      "---------------------- -----------\n",
      "asttokens              2.0.8\n",
      "autopep8               1.7.0\n",
      "backcall               0.2.0\n",
      "certifi                2022.9.14\n",
      "charset-normalizer     2.1.1\n",
      "colorama               0.4.5\n",
      "contourpy              1.0.5\n",
      "cycler                 0.11.0\n",
      "debugpy                1.6.3\n",
      "decorator              5.1.1\n",
      "entrypoints            0.4\n",
      "executing              1.1.1\n",
      "fonttools              4.37.4\n",
      "greenlet               1.1.3.post0\n",
      "idna                   3.4\n",
      "ipykernel              6.16.0\n",
      "ipython                8.5.0\n",
      "jedi                   0.18.1\n",
      "jupyter_client         7.4.2\n",
      "jupyter-core           4.11.1\n",
      "kiwisolver             1.4.4\n",
      "lxml                   4.9.1\n",
      "matplotlib             3.6.0\n",
      "matplotlib-inline      0.1.6\n",
      "multitasking           0.0.11\n",
      "mysql-connector-python 8.0.30\n",
      "nest-asyncio           1.5.6\n",
      "numpy                  1.23.3\n",
      "packaging              21.3\n",
      "pandas                 1.5.0\n",
      "parso                  0.8.3\n",
      "pickleshare            0.7.5\n",
      "Pillow                 9.2.0\n",
      "pip                    22.3\n",
      "prompt-toolkit         3.0.31\n",
      "protobuf               3.20.1\n",
      "psutil                 5.9.2\n",
      "pure-eval              0.2.2\n",
      "pycodestyle            2.9.1\n",
      "Pygments               2.13.0\n",
      "pyparsing              3.0.9\n",
      "python-dateutil        2.8.2\n",
      "pytz                   2022.2.1\n",
      "pywin32                304\n",
      "pyzmq                  24.0.1\n",
      "requests               2.28.1\n",
      "seaborn                0.12.1\n",
      "setuptools             65.0.1\n",
      "six                    1.16.0\n",
      "SQLAlchemy             1.4.41\n",
      "stack-data             0.5.1\n",
      "toml                   0.10.2\n",
      "tornado                6.2\n",
      "traitlets              5.4.0\n",
      "urllib3                1.26.12\n",
      "wcwidth                0.2.5\n",
      "wheel                  0.37.1\n",
      "yfinance               0.1.74\n"
     ]
    }
   ],
   "source": [
    "!pip list"
   ]
  },
  {
   "cell_type": "code",
   "execution_count": 8,
   "metadata": {},
   "outputs": [],
   "source": [
    "import dash\n",
    "from dash import html"
   ]
  },
  {
   "cell_type": "code",
   "execution_count": 9,
   "metadata": {},
   "outputs": [],
   "source": [
    "app = dash.Dash(__name__)\n",
    "app.layout = html.P('Hello World')"
   ]
  },
  {
   "cell_type": "code",
   "execution_count": 10,
   "metadata": {},
   "outputs": [
    {
     "name": "stdout",
     "output_type": "stream",
     "text": [
      "Dash is running on http://127.0.0.1:8050/\n",
      "\n",
      "Dash is running on http://127.0.0.1:8050/\n",
      "\n",
      " * Serving Flask app '__main__'\n",
      " * Debug mode: on\n"
     ]
    },
    {
     "ename": "SystemExit",
     "evalue": "1",
     "output_type": "error",
     "traceback": [
      "An exception has occurred, use %tb to see the full traceback.\n",
      "\u001b[1;31mSystemExit\u001b[0m\u001b[1;31m:\u001b[0m 1\n"
     ]
    }
   ],
   "source": [
    "if __name__=='__main__':\n",
    "    app.run_server(debug=True)"
   ]
  },
  {
   "cell_type": "code",
   "execution_count": 1,
   "metadata": {},
   "outputs": [],
   "source": [
    "from dash import html, Dash, dcc\n",
    "import pandas as pd\n",
    "import plotly.express as px\n",
    "\n",
    "\n"
   ]
  },
  {
   "cell_type": "code",
   "execution_count": 7,
   "metadata": {},
   "outputs": [],
   "source": [
    "# Read data\n",
    "df = pd.read_csv('fetched_data.csv')"
   ]
  },
  {
   "cell_type": "code",
   "execution_count": 8,
   "metadata": {},
   "outputs": [
    {
     "data": {
      "text/plain": [
       "Index(['Date', 'Open', 'High', 'Low', 'Close', 'Adj_Close', 'Volume'], dtype='object')"
      ]
     },
     "execution_count": 8,
     "metadata": {},
     "output_type": "execute_result"
    }
   ],
   "source": [
    "df.columns"
   ]
  },
  {
   "cell_type": "code",
   "execution_count": 11,
   "metadata": {},
   "outputs": [
    {
     "data": {
      "text/plain": [
       "[{'label': 'Date', 'value': 'Date'},\n",
       " {'label': 'Open', 'value': 'Open'},\n",
       " {'label': 'High', 'value': 'High'},\n",
       " {'label': 'Low', 'value': 'Low'},\n",
       " {'label': 'Close', 'value': 'Close'},\n",
       " {'label': 'Adj_Close', 'value': 'Adj_Close'},\n",
       " {'label': 'Volume', 'value': 'Volume'}]"
      ]
     },
     "execution_count": 11,
     "metadata": {},
     "output_type": "execute_result"
    }
   ],
   "source": [
    "[{'label': lbl, 'value': lbl} for lbl in df.columns]"
   ]
  },
  {
   "cell_type": "code",
   "execution_count": null,
   "metadata": {},
   "outputs": [],
   "source": []
  }
 ],
 "metadata": {
  "kernelspec": {
   "display_name": "Python 3.9.4 ('env': venv)",
   "language": "python",
   "name": "python3"
  },
  "language_info": {
   "codemirror_mode": {
    "name": "ipython",
    "version": 3
   },
   "file_extension": ".py",
   "mimetype": "text/x-python",
   "name": "python",
   "nbconvert_exporter": "python",
   "pygments_lexer": "ipython3",
   "version": "3.9.4"
  },
  "orig_nbformat": 4,
  "vscode": {
   "interpreter": {
    "hash": "537581b47a15b771a39be908372fc0d4c3fa59f80faee25a464d0443eaa2d3ae"
   }
  }
 },
 "nbformat": 4,
 "nbformat_minor": 2
}
